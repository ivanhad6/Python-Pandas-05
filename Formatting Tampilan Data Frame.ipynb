{
 "cells": [
  {
   "cell_type": "code",
   "execution_count": 1,
   "id": "21f9379a",
   "metadata": {},
   "outputs": [
    {
     "name": "stdout",
     "output_type": "stream",
     "text": [
      "1.3.4\n",
      "1.20.3\n"
     ]
    }
   ],
   "source": [
    "import pandas as pd\n",
    "import numpy as np\n",
    "\n",
    "print(pd.__version__)\n",
    "print(np.__version__)"
   ]
  },
  {
   "cell_type": "code",
   "execution_count": 2,
   "id": "73cdadb8",
   "metadata": {},
   "outputs": [
    {
     "data": {
      "text/html": [
       "<div>\n",
       "<style scoped>\n",
       "    .dataframe tbody tr th:only-of-type {\n",
       "        vertical-align: middle;\n",
       "    }\n",
       "\n",
       "    .dataframe tbody tr th {\n",
       "        vertical-align: top;\n",
       "    }\n",
       "\n",
       "    .dataframe thead th {\n",
       "        text-align: right;\n",
       "    }\n",
       "</style>\n",
       "<table border=\"1\" class=\"dataframe\">\n",
       "  <thead>\n",
       "    <tr style=\"text-align: right;\">\n",
       "      <th></th>\n",
       "      <th>omset</th>\n",
       "      <th>operasional</th>\n",
       "    </tr>\n",
       "  </thead>\n",
       "  <tbody>\n",
       "    <tr>\n",
       "      <th>0</th>\n",
       "      <td>8</td>\n",
       "      <td>5</td>\n",
       "    </tr>\n",
       "    <tr>\n",
       "      <th>1</th>\n",
       "      <td>6</td>\n",
       "      <td>11</td>\n",
       "    </tr>\n",
       "    <tr>\n",
       "      <th>2</th>\n",
       "      <td>5</td>\n",
       "      <td>18</td>\n",
       "    </tr>\n",
       "    <tr>\n",
       "      <th>3</th>\n",
       "      <td>13</td>\n",
       "      <td>4</td>\n",
       "    </tr>\n",
       "    <tr>\n",
       "      <th>4</th>\n",
       "      <td>15</td>\n",
       "      <td>4</td>\n",
       "    </tr>\n",
       "  </tbody>\n",
       "</table>\n",
       "</div>"
      ],
      "text/plain": [
       "   omset  operasional\n",
       "0      8            5\n",
       "1      6           11\n",
       "2      5           18\n",
       "3     13            4\n",
       "4     15            4"
      ]
     },
     "execution_count": 2,
     "metadata": {},
     "output_type": "execute_result"
    }
   ],
   "source": [
    "n_rows =5\n",
    "n_cols= 2\n",
    "\n",
    "cols = ['omset', 'operasional']\n",
    "df=pd.DataFrame(np.random.randint(1,20, size=(n_rows,n_cols)), columns = cols)\n",
    "\n",
    "df"
   ]
  },
  {
   "cell_type": "code",
   "execution_count": 3,
   "id": "a7b168ff",
   "metadata": {},
   "outputs": [
    {
     "data": {
      "text/html": [
       "<div>\n",
       "<style scoped>\n",
       "    .dataframe tbody tr th:only-of-type {\n",
       "        vertical-align: middle;\n",
       "    }\n",
       "\n",
       "    .dataframe tbody tr th {\n",
       "        vertical-align: top;\n",
       "    }\n",
       "\n",
       "    .dataframe thead th {\n",
       "        text-align: right;\n",
       "    }\n",
       "</style>\n",
       "<table border=\"1\" class=\"dataframe\">\n",
       "  <thead>\n",
       "    <tr style=\"text-align: right;\">\n",
       "      <th></th>\n",
       "      <th>omset</th>\n",
       "      <th>operasional</th>\n",
       "    </tr>\n",
       "  </thead>\n",
       "  <tbody>\n",
       "    <tr>\n",
       "      <th>0</th>\n",
       "      <td>800000</td>\n",
       "      <td>50000</td>\n",
       "    </tr>\n",
       "    <tr>\n",
       "      <th>1</th>\n",
       "      <td>600000</td>\n",
       "      <td>110000</td>\n",
       "    </tr>\n",
       "    <tr>\n",
       "      <th>2</th>\n",
       "      <td>500000</td>\n",
       "      <td>180000</td>\n",
       "    </tr>\n",
       "    <tr>\n",
       "      <th>3</th>\n",
       "      <td>1300000</td>\n",
       "      <td>40000</td>\n",
       "    </tr>\n",
       "    <tr>\n",
       "      <th>4</th>\n",
       "      <td>1500000</td>\n",
       "      <td>40000</td>\n",
       "    </tr>\n",
       "  </tbody>\n",
       "</table>\n",
       "</div>"
      ],
      "text/plain": [
       "     omset  operasional\n",
       "0   800000        50000\n",
       "1   600000       110000\n",
       "2   500000       180000\n",
       "3  1300000        40000\n",
       "4  1500000        40000"
      ]
     },
     "execution_count": 3,
     "metadata": {},
     "output_type": "execute_result"
    }
   ],
   "source": [
    "df['omset'] = df['omset'] *100_000 #tanda underlinemerupakan digital flasholder\n",
    "df['operasional'] = df['operasional'] *10_000\n",
    "df"
   ]
  },
  {
   "cell_type": "code",
   "execution_count": 4,
   "id": "3f766a8a",
   "metadata": {},
   "outputs": [
    {
     "name": "stderr",
     "output_type": "stream",
     "text": [
      "C:\\Users\\AC\\anaconda3\\lib\\site-packages\\pandas\\util\\__init__.py:15: FutureWarning: pandas.util.testing is deprecated. Use the functions in the public API at pandas.testing instead.\n",
      "  import pandas.util.testing\n"
     ]
    },
    {
     "data": {
      "text/html": [
       "<div>\n",
       "<style scoped>\n",
       "    .dataframe tbody tr th:only-of-type {\n",
       "        vertical-align: middle;\n",
       "    }\n",
       "\n",
       "    .dataframe tbody tr th {\n",
       "        vertical-align: top;\n",
       "    }\n",
       "\n",
       "    .dataframe thead th {\n",
       "        text-align: right;\n",
       "    }\n",
       "</style>\n",
       "<table border=\"1\" class=\"dataframe\">\n",
       "  <thead>\n",
       "    <tr style=\"text-align: right;\">\n",
       "      <th></th>\n",
       "      <th>tanggal</th>\n",
       "      <th>omset</th>\n",
       "      <th>operasional</th>\n",
       "    </tr>\n",
       "  </thead>\n",
       "  <tbody>\n",
       "    <tr>\n",
       "      <th>0</th>\n",
       "      <td>2000-01-01</td>\n",
       "      <td>800000</td>\n",
       "      <td>50000</td>\n",
       "    </tr>\n",
       "    <tr>\n",
       "      <th>1</th>\n",
       "      <td>2000-01-02</td>\n",
       "      <td>600000</td>\n",
       "      <td>110000</td>\n",
       "    </tr>\n",
       "    <tr>\n",
       "      <th>2</th>\n",
       "      <td>2000-01-03</td>\n",
       "      <td>500000</td>\n",
       "      <td>180000</td>\n",
       "    </tr>\n",
       "    <tr>\n",
       "      <th>3</th>\n",
       "      <td>2000-01-04</td>\n",
       "      <td>1300000</td>\n",
       "      <td>40000</td>\n",
       "    </tr>\n",
       "    <tr>\n",
       "      <th>4</th>\n",
       "      <td>2000-01-05</td>\n",
       "      <td>1500000</td>\n",
       "      <td>40000</td>\n",
       "    </tr>\n",
       "  </tbody>\n",
       "</table>\n",
       "</div>"
      ],
      "text/plain": [
       "     tanggal    omset  operasional\n",
       "0 2000-01-01   800000        50000\n",
       "1 2000-01-02   600000       110000\n",
       "2 2000-01-03   500000       180000\n",
       "3 2000-01-04  1300000        40000\n",
       "4 2000-01-05  1500000        40000"
      ]
     },
     "execution_count": 4,
     "metadata": {},
     "output_type": "execute_result"
    }
   ],
   "source": [
    "df.index = pd.util.testing.makeDateIndex(n_rows, freq = 'D') #D karena daily\n",
    "df = df.reset_index() #Untuk menjadikan indeks saat ini yaitu indeks date time menjadi sebuah kolom biasa dengan nama indeks\n",
    "df = df.rename(columns = {'index':'tanggal'})\n",
    "df"
   ]
  },
  {
   "cell_type": "code",
   "execution_count": 5,
   "id": "d718416e",
   "metadata": {},
   "outputs": [
    {
     "data": {
      "text/html": [
       "<style type=\"text/css\">\n",
       "</style>\n",
       "<table id=\"T_2fc51_\">\n",
       "  <thead>\n",
       "    <tr>\n",
       "      <th class=\"blank level0\" >&nbsp;</th>\n",
       "      <th class=\"col_heading level0 col0\" >tanggal</th>\n",
       "      <th class=\"col_heading level0 col1\" >omset</th>\n",
       "      <th class=\"col_heading level0 col2\" >operasional</th>\n",
       "    </tr>\n",
       "  </thead>\n",
       "  <tbody>\n",
       "    <tr>\n",
       "      <th id=\"T_2fc51_level0_row0\" class=\"row_heading level0 row0\" >0</th>\n",
       "      <td id=\"T_2fc51_row0_col0\" class=\"data row0 col0\" >01/01/00</td>\n",
       "      <td id=\"T_2fc51_row0_col1\" class=\"data row0 col1\" >Rp800000.00</td>\n",
       "      <td id=\"T_2fc51_row0_col2\" class=\"data row0 col2\" >Rp50000.00</td>\n",
       "    </tr>\n",
       "    <tr>\n",
       "      <th id=\"T_2fc51_level0_row1\" class=\"row_heading level0 row1\" >1</th>\n",
       "      <td id=\"T_2fc51_row1_col0\" class=\"data row1 col0\" >02/01/00</td>\n",
       "      <td id=\"T_2fc51_row1_col1\" class=\"data row1 col1\" >Rp600000.00</td>\n",
       "      <td id=\"T_2fc51_row1_col2\" class=\"data row1 col2\" >Rp110000.00</td>\n",
       "    </tr>\n",
       "    <tr>\n",
       "      <th id=\"T_2fc51_level0_row2\" class=\"row_heading level0 row2\" >2</th>\n",
       "      <td id=\"T_2fc51_row2_col0\" class=\"data row2 col0\" >03/01/00</td>\n",
       "      <td id=\"T_2fc51_row2_col1\" class=\"data row2 col1\" >Rp500000.00</td>\n",
       "      <td id=\"T_2fc51_row2_col2\" class=\"data row2 col2\" >Rp180000.00</td>\n",
       "    </tr>\n",
       "    <tr>\n",
       "      <th id=\"T_2fc51_level0_row3\" class=\"row_heading level0 row3\" >3</th>\n",
       "      <td id=\"T_2fc51_row3_col0\" class=\"data row3 col0\" >04/01/00</td>\n",
       "      <td id=\"T_2fc51_row3_col1\" class=\"data row3 col1\" >Rp1300000.00</td>\n",
       "      <td id=\"T_2fc51_row3_col2\" class=\"data row3 col2\" >Rp40000.00</td>\n",
       "    </tr>\n",
       "    <tr>\n",
       "      <th id=\"T_2fc51_level0_row4\" class=\"row_heading level0 row4\" >4</th>\n",
       "      <td id=\"T_2fc51_row4_col0\" class=\"data row4 col0\" >05/01/00</td>\n",
       "      <td id=\"T_2fc51_row4_col1\" class=\"data row4 col1\" >Rp1500000.00</td>\n",
       "      <td id=\"T_2fc51_row4_col2\" class=\"data row4 col2\" >Rp40000.00</td>\n",
       "    </tr>\n",
       "  </tbody>\n",
       "</table>\n"
      ],
      "text/plain": [
       "<pandas.io.formats.style.Styler at 0x1e411561070>"
      ]
     },
     "execution_count": 5,
     "metadata": {},
     "output_type": "execute_result"
    }
   ],
   "source": [
    "#Melakukan Formatting Tampilan Data Frame\n",
    "\n",
    "formatku = {'tanggal' : '{:%d/%m/%y}', #format hari, bulan, dan tahun\n",
    "            'operasional' : 'Rp{:.2f}', #untuk memberi 2 digit ekstra di belakang koma\n",
    "            'omset' : 'Rp{:.2f}'}\n",
    "laporan = df.style.format(formatku)\n",
    "laporan\n",
    "#tanggal, operasional, dan omset berfungsi untuk memberi nama kolom"
   ]
  },
  {
   "cell_type": "code",
   "execution_count": 6,
   "id": "a8737c50",
   "metadata": {},
   "outputs": [
    {
     "data": {
      "text/plain": [
       "pandas.io.formats.style.Styler"
      ]
     },
     "execution_count": 6,
     "metadata": {},
     "output_type": "execute_result"
    }
   ],
   "source": [
    "type(laporan) #bukan object Data Frame tetapi Styler\n",
    "#object Styler beda dengan object Data Frame"
   ]
  },
  {
   "cell_type": "code",
   "execution_count": 7,
   "id": "c186c684",
   "metadata": {},
   "outputs": [
    {
     "data": {
      "text/html": [
       "<style type=\"text/css\">\n",
       "</style>\n",
       "<table id=\"T_2fc51_\">\n",
       "  <thead>\n",
       "    <tr>\n",
       "      <th class=\"col_heading level0 col0\" >tanggal</th>\n",
       "      <th class=\"col_heading level0 col1\" >omset</th>\n",
       "      <th class=\"col_heading level0 col2\" >operasional</th>\n",
       "    </tr>\n",
       "  </thead>\n",
       "  <tbody>\n",
       "    <tr>\n",
       "      <td id=\"T_2fc51_row0_col0\" class=\"data row0 col0\" >01/01/00</td>\n",
       "      <td id=\"T_2fc51_row0_col1\" class=\"data row0 col1\" >Rp800000.00</td>\n",
       "      <td id=\"T_2fc51_row0_col2\" class=\"data row0 col2\" >Rp50000.00</td>\n",
       "    </tr>\n",
       "    <tr>\n",
       "      <td id=\"T_2fc51_row1_col0\" class=\"data row1 col0\" >02/01/00</td>\n",
       "      <td id=\"T_2fc51_row1_col1\" class=\"data row1 col1\" >Rp600000.00</td>\n",
       "      <td id=\"T_2fc51_row1_col2\" class=\"data row1 col2\" >Rp110000.00</td>\n",
       "    </tr>\n",
       "    <tr>\n",
       "      <td id=\"T_2fc51_row2_col0\" class=\"data row2 col0\" >03/01/00</td>\n",
       "      <td id=\"T_2fc51_row2_col1\" class=\"data row2 col1\" >Rp500000.00</td>\n",
       "      <td id=\"T_2fc51_row2_col2\" class=\"data row2 col2\" >Rp180000.00</td>\n",
       "    </tr>\n",
       "    <tr>\n",
       "      <td id=\"T_2fc51_row3_col0\" class=\"data row3 col0\" >04/01/00</td>\n",
       "      <td id=\"T_2fc51_row3_col1\" class=\"data row3 col1\" >Rp1300000.00</td>\n",
       "      <td id=\"T_2fc51_row3_col2\" class=\"data row3 col2\" >Rp40000.00</td>\n",
       "    </tr>\n",
       "    <tr>\n",
       "      <td id=\"T_2fc51_row4_col0\" class=\"data row4 col0\" >05/01/00</td>\n",
       "      <td id=\"T_2fc51_row4_col1\" class=\"data row4 col1\" >Rp1500000.00</td>\n",
       "      <td id=\"T_2fc51_row4_col2\" class=\"data row4 col2\" >Rp40000.00</td>\n",
       "    </tr>\n",
       "  </tbody>\n",
       "</table>\n"
      ],
      "text/plain": [
       "<pandas.io.formats.style.Styler at 0x1e411561070>"
      ]
     },
     "execution_count": 7,
     "metadata": {},
     "output_type": "execute_result"
    }
   ],
   "source": [
    "laporan.hide_index() #Berfungsi untuk menyembunyikan index"
   ]
  },
  {
   "cell_type": "code",
   "execution_count": 8,
   "id": "150a0f45",
   "metadata": {},
   "outputs": [
    {
     "data": {
      "text/html": [
       "<style type=\"text/css\">\n",
       "</style>\n",
       "<table id=\"T_2fc51_\">\n",
       "  <caption>Data Omset dan Operasional</caption>\n",
       "  <thead>\n",
       "    <tr>\n",
       "      <th class=\"col_heading level0 col0\" >tanggal</th>\n",
       "      <th class=\"col_heading level0 col1\" >omset</th>\n",
       "      <th class=\"col_heading level0 col2\" >operasional</th>\n",
       "    </tr>\n",
       "  </thead>\n",
       "  <tbody>\n",
       "    <tr>\n",
       "      <td id=\"T_2fc51_row0_col0\" class=\"data row0 col0\" >01/01/00</td>\n",
       "      <td id=\"T_2fc51_row0_col1\" class=\"data row0 col1\" >Rp800000.00</td>\n",
       "      <td id=\"T_2fc51_row0_col2\" class=\"data row0 col2\" >Rp50000.00</td>\n",
       "    </tr>\n",
       "    <tr>\n",
       "      <td id=\"T_2fc51_row1_col0\" class=\"data row1 col0\" >02/01/00</td>\n",
       "      <td id=\"T_2fc51_row1_col1\" class=\"data row1 col1\" >Rp600000.00</td>\n",
       "      <td id=\"T_2fc51_row1_col2\" class=\"data row1 col2\" >Rp110000.00</td>\n",
       "    </tr>\n",
       "    <tr>\n",
       "      <td id=\"T_2fc51_row2_col0\" class=\"data row2 col0\" >03/01/00</td>\n",
       "      <td id=\"T_2fc51_row2_col1\" class=\"data row2 col1\" >Rp500000.00</td>\n",
       "      <td id=\"T_2fc51_row2_col2\" class=\"data row2 col2\" >Rp180000.00</td>\n",
       "    </tr>\n",
       "    <tr>\n",
       "      <td id=\"T_2fc51_row3_col0\" class=\"data row3 col0\" >04/01/00</td>\n",
       "      <td id=\"T_2fc51_row3_col1\" class=\"data row3 col1\" >Rp1300000.00</td>\n",
       "      <td id=\"T_2fc51_row3_col2\" class=\"data row3 col2\" >Rp40000.00</td>\n",
       "    </tr>\n",
       "    <tr>\n",
       "      <td id=\"T_2fc51_row4_col0\" class=\"data row4 col0\" >05/01/00</td>\n",
       "      <td id=\"T_2fc51_row4_col1\" class=\"data row4 col1\" >Rp1500000.00</td>\n",
       "      <td id=\"T_2fc51_row4_col2\" class=\"data row4 col2\" >Rp40000.00</td>\n",
       "    </tr>\n",
       "  </tbody>\n",
       "</table>\n"
      ],
      "text/plain": [
       "<pandas.io.formats.style.Styler at 0x1e411561070>"
      ]
     },
     "execution_count": 8,
     "metadata": {},
     "output_type": "execute_result"
    }
   ],
   "source": [
    "laporan.set_caption('Data Omset dan Operasional') #Berrfungsi untuk menambahkan judul"
   ]
  },
  {
   "cell_type": "code",
   "execution_count": 9,
   "id": "278a4b72",
   "metadata": {},
   "outputs": [
    {
     "data": {
      "text/html": [
       "<style type=\"text/css\">\n",
       "#T_2fc51_row2_col1 {\n",
       "  background-color: pink;\n",
       "}\n",
       "#T_2fc51_row2_col2 {\n",
       "  background-color: grey;\n",
       "}\n",
       "#T_2fc51_row3_col2, #T_2fc51_row4_col2 {\n",
       "  background-color: lightblue;\n",
       "}\n",
       "#T_2fc51_row4_col1 {\n",
       "  background-color: lightgreen;\n",
       "}\n",
       "</style>\n",
       "<table id=\"T_2fc51_\">\n",
       "  <caption>Data Omset dan Operasional</caption>\n",
       "  <thead>\n",
       "    <tr>\n",
       "      <th class=\"col_heading level0 col0\" >tanggal</th>\n",
       "      <th class=\"col_heading level0 col1\" >omset</th>\n",
       "      <th class=\"col_heading level0 col2\" >operasional</th>\n",
       "    </tr>\n",
       "  </thead>\n",
       "  <tbody>\n",
       "    <tr>\n",
       "      <td id=\"T_2fc51_row0_col0\" class=\"data row0 col0\" >01/01/00</td>\n",
       "      <td id=\"T_2fc51_row0_col1\" class=\"data row0 col1\" >Rp800000.00</td>\n",
       "      <td id=\"T_2fc51_row0_col2\" class=\"data row0 col2\" >Rp50000.00</td>\n",
       "    </tr>\n",
       "    <tr>\n",
       "      <td id=\"T_2fc51_row1_col0\" class=\"data row1 col0\" >02/01/00</td>\n",
       "      <td id=\"T_2fc51_row1_col1\" class=\"data row1 col1\" >Rp600000.00</td>\n",
       "      <td id=\"T_2fc51_row1_col2\" class=\"data row1 col2\" >Rp110000.00</td>\n",
       "    </tr>\n",
       "    <tr>\n",
       "      <td id=\"T_2fc51_row2_col0\" class=\"data row2 col0\" >03/01/00</td>\n",
       "      <td id=\"T_2fc51_row2_col1\" class=\"data row2 col1\" >Rp500000.00</td>\n",
       "      <td id=\"T_2fc51_row2_col2\" class=\"data row2 col2\" >Rp180000.00</td>\n",
       "    </tr>\n",
       "    <tr>\n",
       "      <td id=\"T_2fc51_row3_col0\" class=\"data row3 col0\" >04/01/00</td>\n",
       "      <td id=\"T_2fc51_row3_col1\" class=\"data row3 col1\" >Rp1300000.00</td>\n",
       "      <td id=\"T_2fc51_row3_col2\" class=\"data row3 col2\" >Rp40000.00</td>\n",
       "    </tr>\n",
       "    <tr>\n",
       "      <td id=\"T_2fc51_row4_col0\" class=\"data row4 col0\" >05/01/00</td>\n",
       "      <td id=\"T_2fc51_row4_col1\" class=\"data row4 col1\" >Rp1500000.00</td>\n",
       "      <td id=\"T_2fc51_row4_col2\" class=\"data row4 col2\" >Rp40000.00</td>\n",
       "    </tr>\n",
       "  </tbody>\n",
       "</table>\n"
      ],
      "text/plain": [
       "<pandas.io.formats.style.Styler at 0x1e411561070>"
      ]
     },
     "execution_count": 9,
     "metadata": {},
     "output_type": "execute_result"
    }
   ],
   "source": [
    "#Memberi warna/highlight \n",
    "laporan.highlight_min('omset', color = 'pink')\n",
    "laporan.highlight_max('omset', color = 'lightgreen')\n",
    "\n",
    "laporan.highlight_min('operasional', color = 'lightblue')\n",
    "laporan.highlight_max('operasional', color = 'grey')"
   ]
  },
  {
   "cell_type": "code",
   "execution_count": null,
   "id": "0e3578cb",
   "metadata": {},
   "outputs": [],
   "source": []
  }
 ],
 "metadata": {
  "kernelspec": {
   "display_name": "Python 3 (ipykernel)",
   "language": "python",
   "name": "python3"
  },
  "language_info": {
   "codemirror_mode": {
    "name": "ipython",
    "version": 3
   },
   "file_extension": ".py",
   "mimetype": "text/x-python",
   "name": "python",
   "nbconvert_exporter": "python",
   "pygments_lexer": "ipython3",
   "version": "3.9.7"
  }
 },
 "nbformat": 4,
 "nbformat_minor": 5
}
